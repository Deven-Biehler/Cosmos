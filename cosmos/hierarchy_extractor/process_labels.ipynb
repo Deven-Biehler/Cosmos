{
 "cells": [
  {
   "cell_type": "code",
   "execution_count": 45,
   "metadata": {},
   "outputs": [],
   "source": [
    "import json\n",
    "from transformers import BertTokenizerFast\n",
    "import uuid"
   ]
  },
  {
   "cell_type": "code",
   "execution_count": 46,
   "metadata": {},
   "outputs": [],
   "source": [
    "tokenizer = BertTokenizerFast.from_pretrained('bert-base-uncased')"
   ]
  },
  {
   "cell_type": "code",
   "execution_count": 56,
   "metadata": {},
   "outputs": [
    {
     "name": "stdout",
     "output_type": "stream",
     "text": [
      "Number of examples: 943\n"
     ]
    }
   ],
   "source": [
    "label_map = {\n",
    "    'B-1': 0,\n",
    "    'I-1': 1,\n",
    "    'B-2': 2,\n",
    "    'I-2': 3,\n",
    "    'B-3': 4,\n",
    "    'I-3': 5,\n",
    "    'B-4': 6,\n",
    "    'I-4': 7,\n",
    "    'B-5': 8,\n",
    "    'I-5': 9,\n",
    "    'B-6': 10,\n",
    "    'I-6': 11,\n",
    "}\n",
    "\n",
    "result = {'label_map': label_map, 'examples': []}\n",
    "with open('data/hierarchy.json') as rf:\n",
    "    for ind, l in enumerate(rf.readlines()):\n",
    "        l = l.strip()\n",
    "        obj = json.loads(l)\n",
    "        text = obj['text']\n",
    "        labels = []\n",
    "        curr_end = 0\n",
    "        sorted_annotations = sorted(obj['annotations'], key=lambda x: x['start_offset'])\n",
    "        for annotation in sorted_annotations:\n",
    "            label = annotation['label']\n",
    "            start_offset = annotation['start_offset']\n",
    "            end_offset = annotation['end_offset']\n",
    "            if end_offset <= curr_end:\n",
    "                print(obj['annotations'])\n",
    "                raise Exception('Something is wrong with the ordering of the offsets')\n",
    "            curr_end = end_offset\n",
    "            tokens = tokenizer.encode(text[start_offset:end_offset])\n",
    "            seq_tokens = tokens[1:-1]\n",
    "            for i in range(len(seq_tokens)):\n",
    "                if i == 0:\n",
    "                    tok_label = f'B-{label}'\n",
    "                    labels.append(tok_label)\n",
    "                else:\n",
    "                    tok_label = f'I-{label}'\n",
    "                    labels.append(tok_label)\n",
    "        tokens = tokenizer.encode(text)\n",
    "        if len(tokens)-2 != len(labels):\n",
    "            print(ind)\n",
    "        assert len(tokens)-2 == len(labels)\n",
    "        if len(tokens) >= 513:\n",
    "            # split it, stride 64\n",
    "            t = tokens[1:-1]\n",
    "            offset = 0\n",
    "            ts = []\n",
    "            ls = []\n",
    "            while offset + 510 < len(t):\n",
    "                toks = t[offset:offset+510]\n",
    "                smalltext = tokenizer.decode(toks)\n",
    "                ts.append(smalltext)\n",
    "                lab = labels[offset:offset+510]\n",
    "                if lab[0].startswith('I'):\n",
    "                    lab[0] = 'B' + lab[0][1:]\n",
    "                ls.append(lab)\n",
    "                offset += 64\n",
    "            toks = t[-510:]\n",
    "            \n",
    "            smalltext = tokenizer.decode(toks)\n",
    "            ts.append(smalltext)\n",
    "            lab = labels[-510:]\n",
    "            assert len(toks) == len(lab)\n",
    "            if lab[0].startswith('I'):\n",
    "                lab[0] = 'B' + lab[0][1:]\n",
    "            ls.append(lab)\n",
    "            for t, l in zip(ts, ls):\n",
    "                result['examples'].append({'original_ind': ind, 'text': t, 'labels': l})\n",
    "        else:\n",
    "            result['examples'].append({'original_ind': ind, 'text': text, 'labels': labels})\n",
    "print(f'Number of examples: {len(result[\"examples\"])}')\n",
    "with open('data/labels.json', 'w') as wf:\n",
    "    json.dump(result, wf)"
   ]
  },
  {
   "cell_type": "code",
   "execution_count": 49,
   "metadata": {},
   "outputs": [
    {
     "name": "stdout",
     "output_type": "stream",
     "text": [
      "2169\n"
     ]
    }
   ],
   "source": [
    "x = \"A. Part I - Liability Coverage 1. The following is added to C. Exclusions: This coverage does not apply to emotional or mental distress, mental anguish, mental injury, or any similar injury unless it arises out of actual physical injury harm to that same person. 2. The following section is added: H. Service of Process If the insured’s whereabouts for service of process cannot be determined through reasonable effort, the  insured agrees to designate and irrevocably appoint  us as the agent of the  insured for service of process, pleadings, or other filings in a civil action brought against the  insured or to which the  insured has been joined as a defendant or respondent in any Colorado court if the cause of action concerns an incident for which the insured can possibly claim coverage. Subsequent termination of the insurance policy does not affect the appointment for an incident that occurred when the policy was in effect. The insured agrees that any such civil action may be commenced against the  insured by the service of process upon  us as if personal service had been made directly on the insured.  We agree to forward all communications related to service of process to the last-known e-mail and mailing address of the Named Insured in order to coordinate any payment of claims or defense of claims that are required. B. Cancellation or Nonrenewal 1. Cancellation by the Named Insured The Named Insured shown in the Declarations may cancel this policy by returning it to  us or by advising  us on what future date the cancellation is to be effective. 2. Cancellation by Us a. Cancellation of Policies in Effect for Less Than 60 Days We may cancel this policy for any reason by mailing notice of cancellation to the Named Insured at the address shown in the  Declarations not less than 10 days prior to the effective date of cancellation. b. Cancellation of Policies in Effect for 60 Days or More If this policy has been in effect for 60 days or more, or is a renewal or continuation policy, we will only cancel for the following reasons: (1) We will mail notice of cancellation to the Named Insured at the address shown in the  Declarations not less\"\n",
    "print(len(x))"
   ]
  },
  {
   "cell_type": "code",
   "execution_count": 50,
   "metadata": {},
   "outputs": [
    {
     "name": "stdout",
     "output_type": "stream",
     "text": [
      " (1) We will mail notice of cancellation to the Named Insured at the address shown in the  Declarations not less\n"
     ]
    }
   ],
   "source": [
    "print(x[2057:2169])"
   ]
  },
  {
   "cell_type": "code",
   "execution_count": 52,
   "metadata": {},
   "outputs": [
    {
     "name": "stdout",
     "output_type": "stream",
     "text": [
      "463\n"
     ]
    }
   ],
   "source": [
    "x = \"A. Notify Us You or any person claiming coverage under this policy must promptly tell us all known details about the claim including but not limited to: 1. the time and place; and 2. the name and address of each: a. injured person; and b. witness. B. Other Duties 1. Each person claiming any coverage of this policy must: a. assist and cooperate with us in any matter concerning a claim or suit. b. promptly send us any legal papers relating to any claim or suit.\"\n",
    "print(len(x))"
   ]
  },
  {
   "cell_type": "code",
   "execution_count": null,
   "metadata": {},
   "outputs": [],
   "source": []
  }
 ],
 "metadata": {
  "kernelspec": {
   "display_name": "Python 3",
   "language": "python",
   "name": "python3"
  },
  "language_info": {
   "codemirror_mode": {
    "name": "ipython",
    "version": 3
   },
   "file_extension": ".py",
   "mimetype": "text/x-python",
   "name": "python",
   "nbconvert_exporter": "python",
   "pygments_lexer": "ipython3",
   "version": "3.7.6"
  }
 },
 "nbformat": 4,
 "nbformat_minor": 4
}
