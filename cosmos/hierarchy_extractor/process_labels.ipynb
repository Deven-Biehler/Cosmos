{
 "cells": [
  {
   "cell_type": "code",
   "execution_count": 24,
   "metadata": {},
   "outputs": [],
   "source": [
    "import json\n",
    "from transformers import BertTokenizerFast\n",
    "import uuid"
   ]
  },
  {
   "cell_type": "code",
   "execution_count": 3,
   "metadata": {},
   "outputs": [
    {
     "data": {
      "application/vnd.jupyter.widget-view+json": {
       "model_id": "b96bf700460f4d17bb45a77f284d27df",
       "version_major": 2,
       "version_minor": 0
      },
      "text/plain": [
       "HBox(children=(FloatProgress(value=0.0, description='Downloading', max=231508.0, style=ProgressStyle(descripti…"
      ]
     },
     "metadata": {},
     "output_type": "display_data"
    },
    {
     "name": "stdout",
     "output_type": "stream",
     "text": [
      "\n"
     ]
    }
   ],
   "source": [
    "tokenizer = BertTokenizerFast.from_pretrained('bert-base-uncased')"
   ]
  },
  {
   "cell_type": "code",
   "execution_count": 29,
   "metadata": {},
   "outputs": [],
   "source": [
    "label_map = {\n",
    "    'B-1': 0,\n",
    "    'I-1': 1,\n",
    "    'B-2': 2,\n",
    "    'I-2': 3,\n",
    "    'B-3': 4,\n",
    "    'I-3': 5,\n",
    "    'B-4': 6,\n",
    "    'I-4': 7,\n",
    "}\n",
    "\n",
    "result = {'label_map': label_map, 'examples': []}\n",
    "with open('data/hierarchy.json') as rf:\n",
    "    for ind, l in enumerate(rf.readlines()):\n",
    "        l = l.strip()\n",
    "        obj = json.loads(l)\n",
    "        text = obj['text']\n",
    "        labels = []\n",
    "        curr_end = 0\n",
    "        sorted_annotations = sorted(obj['annotations'], key=lambda x: x['start_offset'])\n",
    "        for annotation in sorted_annotations:\n",
    "            label = annotation['label']\n",
    "            start_offset = annotation['start_offset']\n",
    "            end_offset = annotation['end_offset']\n",
    "            if end_offset <= curr_end:\n",
    "                print(obj['annotations'])\n",
    "                raise Exception('Something is wrong with the ordering of the offsets')\n",
    "            curr_end = end_offset\n",
    "            tokens = tokenizer.encode(text[start_offset:end_offset])\n",
    "            seq_tokens = tokens[1:-1]\n",
    "            for i in range(len(seq_tokens)):\n",
    "                if i == 0:\n",
    "                    tok_label = f'B-{label}'\n",
    "                    labels.append(tok_label)\n",
    "                else:\n",
    "                    tok_label = f'I-{label}'\n",
    "                    labels.append(tok_label)\n",
    "        tokens = tokenizer.encode(text)\n",
    "        assert len(tokens)-2 == len(labels)\n",
    "        assert len(tokens) < 513\n",
    "        result['examples'].append({'text': text, 'labels': labels})\n",
    "with open('data/labels.json', 'w') as wf:\n",
    "    json.dump(result, wf)"
   ]
  },
  {
   "cell_type": "code",
   "execution_count": null,
   "metadata": {},
   "outputs": [],
   "source": []
  }
 ],
 "metadata": {
  "kernelspec": {
   "display_name": "Python 3",
   "language": "python",
   "name": "python3"
  },
  "language_info": {
   "codemirror_mode": {
    "name": "ipython",
    "version": 3
   },
   "file_extension": ".py",
   "mimetype": "text/x-python",
   "name": "python",
   "nbconvert_exporter": "python",
   "pygments_lexer": "ipython3",
   "version": "3.7.6"
  }
 },
 "nbformat": 4,
 "nbformat_minor": 4
}
