{
 "cells": [
  {
   "cell_type": "code",
   "execution_count": 1,
   "metadata": {},
   "outputs": [],
   "source": [
    "import fitz"
   ]
  },
  {
   "cell_type": "code",
   "execution_count": 1,
   "metadata": {},
   "outputs": [
    {
     "ename": "NameError",
     "evalue": "name 'fitz' is not defined",
     "output_type": "error",
     "traceback": [
      "\u001B[0;31m---------------------------------------------------------------------------\u001B[0m",
      "\u001B[0;31mNameError\u001B[0m                                 Traceback (most recent call last)",
      "\u001B[0;32m<ipython-input-1-f974be7cea6f>\u001B[0m in \u001B[0;36m<module>\u001B[0;34m\u001B[0m\n\u001B[1;32m      2\u001B[0m \u001B[0;31m#utputStream = open(\"dst.pdf\", \"wb\")\u001B[0m\u001B[0;34m\u001B[0m\u001B[0;34m\u001B[0m\u001B[0;34m\u001B[0m\u001B[0m\n\u001B[1;32m      3\u001B[0m \u001B[0;34m\u001B[0m\u001B[0m\n\u001B[0;32m----> 4\u001B[0;31m \u001B[0mdoc\u001B[0m \u001B[0;34m=\u001B[0m \u001B[0mfitz\u001B[0m\u001B[0;34m.\u001B[0m\u001B[0mopen\u001B[0m\u001B[0;34m(\u001B[0m\u001B[0;34m\"test_contract/testcontract.pdf\"\u001B[0m\u001B[0;34m)\u001B[0m\u001B[0;34m\u001B[0m\u001B[0;34m\u001B[0m\u001B[0m\n\u001B[0m\u001B[1;32m      5\u001B[0m \u001B[0;32mfor\u001B[0m \u001B[0mind\u001B[0m\u001B[0;34m,\u001B[0m \u001B[0mpage\u001B[0m \u001B[0;32min\u001B[0m \u001B[0menumerate\u001B[0m\u001B[0;34m(\u001B[0m\u001B[0mdoc\u001B[0m\u001B[0;34m)\u001B[0m\u001B[0;34m:\u001B[0m\u001B[0;34m\u001B[0m\u001B[0;34m\u001B[0m\u001B[0m\n\u001B[1;32m      6\u001B[0m     \u001B[0mpix\u001B[0m \u001B[0;34m=\u001B[0m \u001B[0mpage\u001B[0m\u001B[0;34m.\u001B[0m\u001B[0mgetPixmap\u001B[0m\u001B[0;34m(\u001B[0m\u001B[0;34m)\u001B[0m\u001B[0;34m\u001B[0m\u001B[0;34m\u001B[0m\u001B[0m\n",
      "\u001B[0;31mNameError\u001B[0m: name 'fitz' is not defined"
     ]
    }
   ],
   "source": [
    "#i#nputStream = open(\"test_contract/testcontract.pdf\", \"rb\")\n",
    "#utputStream = open(\"dst.pdf\", \"wb\")\n",
    "\n",
    "doc = fitz.open(\"test_contract/testcontract.pdf\")\n",
    "for ind, page in enumerate(doc):\n",
    "    pix = page.getPixmap()\n",
    "    pix.writeImage(f\"test{ind}.png\")\n",
    "    x = page.getText('html')\n",
    "    with open('test.html', 'w') as w:\n",
    "        w.write(x)\n",
    "    x = page.getText('xml')\n",
    "    #print(x)\n",
    "# src = PdfFileReader(inputStream)\n",
    "# if src.isEncrypted:\n",
    "#     src.decrypt('')\n",
    "# output = PdfFileWriter()\n",
    "\n",
    "# [output.addPage(src.getPage(i)) for i in range(src.getNumPages())]\n",
    "# output.removeImages()\n",
    "\n",
    "# output.write(outputStream)\n"
   ]
  },
  {
   "cell_type": "code",
   "execution_count": 1,
   "metadata": {},
   "outputs": [
    {
     "ename": "PdfReadError",
     "evalue": "File has not been decrypted",
     "output_type": "error",
     "traceback": [
      "\u001B[0;31m---------------------------------------------------------------------------\u001B[0m",
      "\u001B[0;31mNotImplementedError\u001B[0m                       Traceback (most recent call last)",
      "\u001B[0;32m~/Projects/miniconda3/envs/cosmos/lib/python3.6/site-packages/PyPDF4/pdf.py\u001B[0m in \u001B[0;36mgetNumPages\u001B[0;34m(self)\u001B[0m\n\u001B[1;32m   1210\u001B[0m                 \u001B[0mself\u001B[0m\u001B[0;34m.\u001B[0m\u001B[0m_override_encryption\u001B[0m \u001B[0;34m=\u001B[0m \u001B[0;32mTrue\u001B[0m\u001B[0;34m\u001B[0m\u001B[0;34m\u001B[0m\u001B[0m\n\u001B[0;32m-> 1211\u001B[0;31m                 \u001B[0mself\u001B[0m\u001B[0;34m.\u001B[0m\u001B[0mdecrypt\u001B[0m\u001B[0;34m(\u001B[0m\u001B[0;34m''\u001B[0m\u001B[0;34m)\u001B[0m\u001B[0;34m\u001B[0m\u001B[0;34m\u001B[0m\u001B[0m\n\u001B[0m\u001B[1;32m   1212\u001B[0m                 \u001B[0;32mreturn\u001B[0m \u001B[0mself\u001B[0m\u001B[0;34m.\u001B[0m\u001B[0mtrailer\u001B[0m\u001B[0;34m[\u001B[0m\u001B[0;34m\"/Root\"\u001B[0m\u001B[0;34m]\u001B[0m\u001B[0;34m[\u001B[0m\u001B[0;34m\"/Pages\"\u001B[0m\u001B[0;34m]\u001B[0m\u001B[0;34m[\u001B[0m\u001B[0;34m\"/Count\"\u001B[0m\u001B[0;34m]\u001B[0m\u001B[0;34m\u001B[0m\u001B[0;34m\u001B[0m\u001B[0m\n",
      "\u001B[0;32m~/Projects/miniconda3/envs/cosmos/lib/python3.6/site-packages/PyPDF4/pdf.py\u001B[0m in \u001B[0;36mdecrypt\u001B[0;34m(self, password)\u001B[0m\n\u001B[1;32m   2051\u001B[0m         \u001B[0;32mtry\u001B[0m\u001B[0;34m:\u001B[0m\u001B[0;34m\u001B[0m\u001B[0;34m\u001B[0m\u001B[0m\n\u001B[0;32m-> 2052\u001B[0;31m             \u001B[0;32mreturn\u001B[0m \u001B[0mself\u001B[0m\u001B[0;34m.\u001B[0m\u001B[0m_decrypt\u001B[0m\u001B[0;34m(\u001B[0m\u001B[0mpassword\u001B[0m\u001B[0;34m)\u001B[0m\u001B[0;34m\u001B[0m\u001B[0;34m\u001B[0m\u001B[0m\n\u001B[0m\u001B[1;32m   2053\u001B[0m         \u001B[0;32mfinally\u001B[0m\u001B[0;34m:\u001B[0m\u001B[0;34m\u001B[0m\u001B[0;34m\u001B[0m\u001B[0m\n",
      "\u001B[0;32m~/Projects/miniconda3/envs/cosmos/lib/python3.6/site-packages/PyPDF4/pdf.py\u001B[0m in \u001B[0;36m_decrypt\u001B[0;34m(self, password)\u001B[0m\n\u001B[1;32m   2060\u001B[0m         \u001B[0;32mif\u001B[0m \u001B[0;32mnot\u001B[0m \u001B[0;34m(\u001B[0m\u001B[0mencrypt\u001B[0m\u001B[0;34m[\u001B[0m\u001B[0;34m'/V'\u001B[0m\u001B[0;34m]\u001B[0m \u001B[0;32min\u001B[0m \u001B[0;34m(\u001B[0m\u001B[0;36m1\u001B[0m\u001B[0;34m,\u001B[0m \u001B[0;36m2\u001B[0m\u001B[0;34m)\u001B[0m\u001B[0;34m)\u001B[0m\u001B[0;34m:\u001B[0m\u001B[0;34m\u001B[0m\u001B[0;34m\u001B[0m\u001B[0m\n\u001B[0;32m-> 2061\u001B[0;31m             \u001B[0;32mraise\u001B[0m \u001B[0mNotImplementedError\u001B[0m\u001B[0;34m(\u001B[0m\u001B[0;34m\"only algorithm code 1 and 2 are supported. This PDF uses code %s\"\u001B[0m \u001B[0;34m%\u001B[0m \u001B[0mencrypt\u001B[0m\u001B[0;34m[\u001B[0m\u001B[0;34m'/V'\u001B[0m\u001B[0;34m]\u001B[0m\u001B[0;34m)\u001B[0m\u001B[0;34m\u001B[0m\u001B[0;34m\u001B[0m\u001B[0m\n\u001B[0m\u001B[1;32m   2062\u001B[0m         \u001B[0muser_password\u001B[0m\u001B[0;34m,\u001B[0m \u001B[0mkey\u001B[0m \u001B[0;34m=\u001B[0m \u001B[0mself\u001B[0m\u001B[0;34m.\u001B[0m\u001B[0m_authenticateUserPassword\u001B[0m\u001B[0;34m(\u001B[0m\u001B[0mpassword\u001B[0m\u001B[0;34m)\u001B[0m\u001B[0;34m\u001B[0m\u001B[0;34m\u001B[0m\u001B[0m\n",
      "\u001B[0;31mNotImplementedError\u001B[0m: only algorithm code 1 and 2 are supported. This PDF uses code 4",
      "\nDuring handling of the above exception, another exception occurred:\n",
      "\u001B[0;31mPdfReadError\u001B[0m                              Traceback (most recent call last)",
      "\u001B[0;32m<ipython-input-1-6f3deb74b8ae>\u001B[0m in \u001B[0;36m<module>\u001B[0;34m\u001B[0m\n\u001B[1;32m     30\u001B[0m \u001B[0minputFile\u001B[0m \u001B[0;34m=\u001B[0m \u001B[0;34mr'test_contract/testcontract.pdf'\u001B[0m\u001B[0;34m\u001B[0m\u001B[0;34m\u001B[0m\u001B[0m\n\u001B[1;32m     31\u001B[0m \u001B[0moutputFile\u001B[0m \u001B[0;34m=\u001B[0m \u001B[0;34mr\"output.pdf\"\u001B[0m\u001B[0;34m\u001B[0m\u001B[0;34m\u001B[0m\u001B[0m\n\u001B[0;32m---> 32\u001B[0;31m \u001B[0mremoveWatermark\u001B[0m\u001B[0;34m(\u001B[0m\u001B[0mwm_text\u001B[0m\u001B[0;34m,\u001B[0m \u001B[0minputFile\u001B[0m\u001B[0;34m,\u001B[0m \u001B[0moutputFile\u001B[0m\u001B[0;34m)\u001B[0m\u001B[0;34m\u001B[0m\u001B[0;34m\u001B[0m\u001B[0m\n\u001B[0m",
      "\u001B[0;32m<ipython-input-1-6f3deb74b8ae>\u001B[0m in \u001B[0;36mremoveWatermark\u001B[0;34m(wm_text, inputFile, outputFile)\u001B[0m\n\u001B[1;32m      9\u001B[0m         \u001B[0moutput\u001B[0m \u001B[0;34m=\u001B[0m \u001B[0mPdfFileWriter\u001B[0m\u001B[0;34m(\u001B[0m\u001B[0;34m)\u001B[0m\u001B[0;34m\u001B[0m\u001B[0;34m\u001B[0m\u001B[0m\n\u001B[1;32m     10\u001B[0m \u001B[0;34m\u001B[0m\u001B[0m\n\u001B[0;32m---> 11\u001B[0;31m         \u001B[0;32mfor\u001B[0m \u001B[0mpage\u001B[0m \u001B[0;32min\u001B[0m \u001B[0mrange\u001B[0m\u001B[0;34m(\u001B[0m\u001B[0msource\u001B[0m\u001B[0;34m.\u001B[0m\u001B[0mgetNumPages\u001B[0m\u001B[0;34m(\u001B[0m\u001B[0;34m)\u001B[0m\u001B[0;34m)\u001B[0m\u001B[0;34m:\u001B[0m\u001B[0;34m\u001B[0m\u001B[0;34m\u001B[0m\u001B[0m\n\u001B[0m\u001B[1;32m     12\u001B[0m             \u001B[0mpage\u001B[0m \u001B[0;34m=\u001B[0m \u001B[0msource\u001B[0m\u001B[0;34m.\u001B[0m\u001B[0mgetPage\u001B[0m\u001B[0;34m(\u001B[0m\u001B[0mpage\u001B[0m\u001B[0;34m)\u001B[0m\u001B[0;34m\u001B[0m\u001B[0;34m\u001B[0m\u001B[0m\n\u001B[1;32m     13\u001B[0m             \u001B[0mcontent_object\u001B[0m \u001B[0;34m=\u001B[0m \u001B[0mpage\u001B[0m\u001B[0;34m[\u001B[0m\u001B[0;34m\"/Contents\"\u001B[0m\u001B[0;34m]\u001B[0m\u001B[0;34m.\u001B[0m\u001B[0mgetObject\u001B[0m\u001B[0;34m(\u001B[0m\u001B[0;34m)\u001B[0m\u001B[0;34m\u001B[0m\u001B[0;34m\u001B[0m\u001B[0m\n",
      "\u001B[0;32m~/Projects/miniconda3/envs/cosmos/lib/python3.6/site-packages/PyPDF4/pdf.py\u001B[0m in \u001B[0;36mgetNumPages\u001B[0;34m(self)\u001B[0m\n\u001B[1;32m   1212\u001B[0m                 \u001B[0;32mreturn\u001B[0m \u001B[0mself\u001B[0m\u001B[0;34m.\u001B[0m\u001B[0mtrailer\u001B[0m\u001B[0;34m[\u001B[0m\u001B[0;34m\"/Root\"\u001B[0m\u001B[0;34m]\u001B[0m\u001B[0;34m[\u001B[0m\u001B[0;34m\"/Pages\"\u001B[0m\u001B[0;34m]\u001B[0m\u001B[0;34m[\u001B[0m\u001B[0;34m\"/Count\"\u001B[0m\u001B[0;34m]\u001B[0m\u001B[0;34m\u001B[0m\u001B[0;34m\u001B[0m\u001B[0m\n\u001B[1;32m   1213\u001B[0m             \u001B[0;32mexcept\u001B[0m\u001B[0;34m:\u001B[0m\u001B[0;34m\u001B[0m\u001B[0;34m\u001B[0m\u001B[0m\n\u001B[0;32m-> 1214\u001B[0;31m                 \u001B[0;32mraise\u001B[0m \u001B[0mutils\u001B[0m\u001B[0;34m.\u001B[0m\u001B[0mPdfReadError\u001B[0m\u001B[0;34m(\u001B[0m\u001B[0;34m\"File has not been decrypted\"\u001B[0m\u001B[0;34m)\u001B[0m\u001B[0;34m\u001B[0m\u001B[0;34m\u001B[0m\u001B[0m\n\u001B[0m\u001B[1;32m   1215\u001B[0m             \u001B[0;32mfinally\u001B[0m\u001B[0;34m:\u001B[0m\u001B[0;34m\u001B[0m\u001B[0;34m\u001B[0m\u001B[0m\n\u001B[1;32m   1216\u001B[0m                 \u001B[0mself\u001B[0m\u001B[0;34m.\u001B[0m\u001B[0m_override_encryption\u001B[0m \u001B[0;34m=\u001B[0m \u001B[0;32mFalse\u001B[0m\u001B[0;34m\u001B[0m\u001B[0;34m\u001B[0m\u001B[0m\n",
      "\u001B[0;31mPdfReadError\u001B[0m: File has not been decrypted"
     ]
    }
   ],
   "source": [
    "def removeWatermark(wm_text, inputFile, outputFile):\n",
    "    from PyPDF4 import PdfFileReader, PdfFileWriter\n",
    "    from PyPDF4.pdf import ContentStream\n",
    "    from PyPDF4.generic import TextStringObject, NameObject\n",
    "    from PyPDF4.utils import b_\n",
    "\n",
    "    with open(inputFile, \"rb\") as f:\n",
    "        source = PdfFileReader(f, \"rb\")\n",
    "        output = PdfFileWriter()\n",
    "\n",
    "        for page in range(source.getNumPages()):\n",
    "            page = source.getPage(page)\n",
    "            content_object = page[\"/Contents\"].getObject()\n",
    "            content = ContentStream(content_object, source)\n",
    "\n",
    "            for operands, operator in content.operations:\n",
    "                if operator == b_(\"Tj\"):\n",
    "                    text = operands[0]\n",
    "\n",
    "                    if isinstance(text, str) and text.startswith(wm_text):\n",
    "                        operands[0] = TextStringObject('')\n",
    "\n",
    "            page.__setitem__(NameObject('/Contents'), content)\n",
    "            output.addPage(page)\n",
    "\n",
    "        with open(outputFile, \"wb\") as outputStream:\n",
    "            output.write(outputStream)\n",
    "\n",
    "wm_text = 'specimen'\n",
    "inputFile = r'test_contract/testcontract.pdf'\n",
    "outputFile = r\"output.pdf\"\n",
    "removeWatermark(wm_text, inputFile, outputFile)"
   ]
  },
  {
   "cell_type": "code",
   "execution_count": 2,
   "metadata": {},
   "outputs": [],
   "source": [
    "from pikepdf import Pdf, PdfImage, Name\n",
    "\n",
    "example = Pdf.open('test_contract/test.pdf')\n",
    "new = Pdf.new()"
   ]
  },
  {
   "cell_type": "code",
   "execution_count": 6,
   "metadata": {},
   "outputs": [
    {
     "name": "stdout",
     "output_type": "stream",
     "text": [
      "{pikepdf.Operator(\"Td\"), pikepdf.Operator(\"Tj\"), pikepdf.Operator(\"q\"), pikepdf.Operator(\"cm\"), pikepdf.Operator(\"Q\"), pikepdf.Operator(\"gs\"), pikepdf.Operator(\"TJ\"), pikepdf.Operator(\"Tf\"), pikepdf.Operator(\"ET\"), pikepdf.Operator(\"BDC\"), pikepdf.Operator(\"Do\"), pikepdf.Operator(\"Tm\"), pikepdf.Operator(\"TD\"), pikepdf.Operator(\"EMC\"), pikepdf.Operator(\"BT\")}\n",
      "Operands [], operator BT\n",
      "Operands [pikepdf.Name(\"/T1_0\"), Decimal('66.667')], operator Tf\n",
      "Operands [Decimal('0.12'), 0, 0, Decimal('0.12'), Decimal('50.4'), Decimal('14.4')], operator Tm\n",
      "Operands [pikepdf.Array([ \"PV\", Decimal('-300.999'), \"88\", Decimal('-282.999'), \"08\", Decimal('-283.001'), \"03\", Decimal('-282.999'), \"13\" ])], operator TJ\n",
      "Operands [2034, 0], operator Td\n",
      "Operands [pikepdf.Array([ \"Page 1\", Decimal('-295.998'), \"of 1\" ])], operator TJ\n",
      "Operands [pikepdf.Name(\"/T1_0\"), 100], operator Tf\n",
      "Operands [-414, 6088], operator Td\n",
      "Operands [pikepdf.Array([ \"ATV/UTV\", -287, \"COVERAGE\" ])], operator TJ\n",
      "Operands [pikepdf.Name(\"/T1_0\"), Decimal('83.333')], operator Tf\n",
      "Operands [-1620, -184], operator Td\n",
      "Operands [pikepdf.Array([ \"The\", Decimal('-269.001'), \"terms\", Decimal('-272.002'), \"of\", -270, \"the\", Decimal('-266.001'), \"policy\", Decimal('-264.001'), \"apply\", Decimal('-262.001'), \"except\", Decimal('-270.001'), \"as\", Decimal('-276.001'), \"changed\", Decimal('-256.002'), \"by\", -276, \"this \" ])], operator TJ\n",
      "Operands [pikepdf.Name(\"/T1_1\"), Decimal('83.333')], operator Tf\n",
      "Operands [2066, 0], operator Td\n",
      "Operands [pikepdf.String(\"endorsement\")], operator Tj\n",
      "Operands [pikepdf.Name(\"/T1_0\"), Decimal('83.333')], operator Tf\n",
      "Operands [522, 0], operator Td\n",
      "Operands [pikepdf.String(\".\")], operator Tj\n",
      "Operands [-2588, -198], operator Td\n",
      "Operands [pikepdf.Array([ \"These\", Decimal('-269.002'), \"changes\", Decimal('-264.001'), \"only\", Decimal('-266.001'), \"apply\", Decimal('-262.001'), \"to\", Decimal('-270.001'), \"a\", -272, \"vehicle\", Decimal('-260.001'), \"if\", Decimal('-268.001'), \"ATV/UTV\", Decimal('-253.003'), \"Coverage\", -261, \"is\", Decimal('-274.002'), \"shown\", Decimal('-266.001'), \"for\", -273, \"that\", Decimal('-264.001'), \"vehicle\", Decimal('-260.001'), \"in\", -266, \"the \" ])], operator TJ\n",
      "Operands [pikepdf.Name(\"/T1_1\"), Decimal('83.333')], operator Tf\n",
      "Operands [3382, 0], operator Td\n",
      "Operands [pikepdf.String(\"Declarations\")], operator Tj\n",
      "Operands [pikepdf.Name(\"/T1_0\"), Decimal('83.333')], operator Tf\n",
      "Operands [498, 0], operator Td\n",
      "Operands [pikepdf.String(\".\")], operator Tj\n",
      "Operands [-3880, -196], operator Td\n",
      "Operands [pikepdf.Array([ \"A.\", -855, \"Definitions\" ])], operator TJ\n",
      "Operands [150, -105], operator Td\n",
      "Operands [pikepdf.Array([ \"The\", Decimal('-269.001'), \"definition\", Decimal('-234.003'), \"of \" ])], operator TJ\n",
      "Operands [pikepdf.Name(\"/T1_1\"), Decimal('83.333')], operator Tf\n",
      "Operands [611, 0], operator Td\n",
      "Operands [pikepdf.String(\"cycle\")], operator Tj\n",
      "Operands [pikepdf.Name(\"/T1_0\"), Decimal('83.333')], operator Tf\n",
      "Operands [230, 0], operator Td\n",
      "Operands [pikepdf.Array([ \"is\", Decimal('-274.001'), \"deleted\", Decimal('-248.001'), \"and\", Decimal('-264.001'), \"replaced\", Decimal('-257.002'), \"as\", -276, \"follows\", Decimal('19.998'), \":\" ])], operator TJ\n",
      "Operands [pikepdf.Name(\"/T1_1\"), Decimal('83.333')], operator Tf\n",
      "Operands [-841, -104], operator Td\n",
      "Operands [pikepdf.String(\"Cycle\")], operator Tj\n",
      "Operands [pikepdf.Name(\"/T1_0\"), Decimal('83.333')], operator Tf\n",
      "Operands [244, 0], operator Td\n",
      "Operands [pikepdf.Array([ \"means\", Decimal('-263.002'), \"an\", -268, \"all\", Decimal('-260.001'), \"terrain\", Decimal('-262.002'), \"vehicle\", Decimal('-260.001'), \"(ATV)\", Decimal('-269.001'), \"or\", -275, \"utility\", Decimal('-254.003'), \"terrain\", Decimal('-262.001'), \"vehicle\", Decimal('-260.003'), \"(UTV):\" ])], operator TJ\n",
      "Operands [-244, -103], operator Td\n",
      "Operands [pikepdf.Array([ \"1.\", -966, \"with\", Decimal('-262.001'), \"at\", Decimal('-270.001'), \"least\", -264, \"four\", Decimal('-269.002'), \"wheels;\", Decimal('-258.001'), \"and\" ])], operator TJ\n",
      "Operands [0, -104], operator TD\n",
      "Operands [pikepdf.Array([ \"2.\", -966, \"designed\", Decimal('-250.002'), \"for\", -273, \"use\", Decimal('-272.003'), \"off\", Decimal('-267.999'), \"public\", Decimal('-256.002'), \"roads.\" ])], operator TJ\n",
      "Operands [-150, -198], operator Td\n",
      "Operands [pikepdf.Array([ \"All\", Decimal('-257.001'), \"other\", Decimal('-265.001'), \"terms\", Decimal('-272.002'), \"remain\", Decimal('-256.001'), \"unchanged.\" ])], operator TJ\n",
      "Operands [], operator ET\n",
      "Operands [pikepdf.Name(\"/Artifact\"), pikepdf.Dictionary(type_=\"/Pagination\")({\n",
      "  \"/Subtype\": \"/Watermark\",\n",
      "  \"/Type\": \"/Pagination\"\n",
      "})], operator BDC\n",
      "Operands [], operator q\n",
      "Operands [Decimal('2.2980652'), Decimal('2.2980652'), Decimal('-2.2980652'), Decimal('2.2980652'), Decimal('158.5524445'), Decimal('298.1904297')], operator cm\n",
      "Operands [pikepdf.Name(\"/GS0\")], operator gs\n",
      "Operands [pikepdf.Name(\"/T1_0\"), Decimal('83.333')], operator Tf\n",
      "Operands [pikepdf.Name(\"/Fm0\")], operator Do\n",
      "Operands [], operator Q\n",
      "Operands [], operator EMC\n"
     ]
    }
   ],
   "source": [
    "import pikepdf\n",
    "for ind, page in enumerate(example.pages):\n",
    "    commands = []\n",
    "    oset = set()\n",
    "    for operands, operator in pikepdf.parse_content_stream(page):\n",
    "        commands.append((operands, operator))\n",
    "        oset.add(operator)\n",
    "    print(oset)\n",
    "    for operands, operator in pikepdf.parse_content_stream(page):\n",
    "        print(\"Operands {}, operator {}\".format(operands, operator))\n",
    "    #print(commands)\n",
    "    #new_content_stream = pikepdf.unparse_content_stream(commands)\n",
    "    #new.add_blank_page()\n",
    "    #new.pages[ind].Contents = new.make_stream(new_content_stream)\n",
    "    \n",
    "#new.pages.remove(p=len(new.pages))\n",
    "#new.save('test.pdf')\n",
    "\n",
    "# page1 = example.pages[0]\n",
    "# oset = set()\n",
    "# commands = []\n",
    "# valid_subset = [pikepdf.Operator(\"Tf\"), pikepdf.Operator(\"Tj\"), pikepdf.Operator(\"Td\"), pikepdf.Operator(\"ET\"), pikepdf.Operator(\"BT\")]\n",
    "# for operands, operator in pikepdf.parse_content_stream(page1):\n",
    "#     #print(\"Operands {}, operator {}\".format(operands, operator))\n",
    "#     oset.add(operator)\n",
    "#     #if operator in valid_subset:\n",
    "#     #    commands.append((operands, operator))\n",
    "#     commands.append((operands, operator))\n",
    "        \n",
    "# new_content_stream = pikepdf.unparse_content_stream(commands)\n",
    "# new.add_blank_page()\n",
    "# new.pages[0].Contents = new.make_stream(new_content_stream)\n",
    "\n",
    "\n",
    "# print(oset)\n"
   ]
  },
  {
   "cell_type": "code",
   "execution_count": null,
   "metadata": {},
   "outputs": [],
   "source": []
  }
 ],
 "metadata": {
  "kernelspec": {
   "display_name": "Python 3",
   "language": "python",
   "name": "python3"
  },
  "language_info": {
   "codemirror_mode": {
    "name": "ipython",
    "version": 3
   },
   "file_extension": ".py",
   "mimetype": "text/x-python",
   "name": "python",
   "nbconvert_exporter": "python",
   "pygments_lexer": "ipython3",
   "version": "3.6.10"
  }
 },
 "nbformat": 4,
 "nbformat_minor": 4
}